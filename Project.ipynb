{
  "nbformat": 4,
  "nbformat_minor": 0,
  "metadata": {
    "colab": {
      "name": "Project.ipynb",
      "provenance": [],
      "collapsed_sections": [],
      "authorship_tag": "ABX9TyNYb+eGpRStm6+qgh/TQN++",
      "include_colab_link": true
    },
    "kernelspec": {
      "name": "python3",
      "display_name": "Python 3"
    },
    "language_info": {
      "name": "python"
    }
  },
  "cells": [
    {
      "cell_type": "markdown",
      "metadata": {
        "id": "view-in-github",
        "colab_type": "text"
      },
      "source": [
        "<a href=\"https://colab.research.google.com/github/Tractor-kun/Jul-Vac-Python/blob/main/Project.ipynb\" target=\"_parent\"><img src=\"https://colab.research.google.com/assets/colab-badge.svg\" alt=\"Open In Colab\"/></a>"
      ]
    },
    {
      "cell_type": "code",
      "execution_count": null,
      "metadata": {
        "id": "P72sWihCaHLQ"
      },
      "outputs": [],
      "source": [
        "x = input(\"Time work started(hours): \")\n",
        "x = int(x)\n",
        "xx = input(\"Time work started(minutes): \")\n",
        "xx = int(xx)\n",
        "\n",
        "y = input(\"Time work ended(hours): \")\n",
        "y = int(y)\n",
        "yy = input(\"Time work ended(minutes): \")\n",
        "yy = int(yy)\n",
        "\n",
        "if x > y:\n",
        "    z= (x - y) \n",
        "else:\n",
        "    z= (y - x) \n",
        "\n",
        "if xx > yy:\n",
        "    zz = (xx - yy) * 0.01\n",
        "else:\n",
        "    zz = (yy - xx) *  0.01\n",
        "\n",
        "if x > y:\n",
        "     p = z + zz\n",
        "else:\n",
        "    p = z - zz\n",
        "\n",
        "profit = p * 5\n",
        "print('Your profit is GH${}'.format(profit))"
      ]
    }
  ]
}