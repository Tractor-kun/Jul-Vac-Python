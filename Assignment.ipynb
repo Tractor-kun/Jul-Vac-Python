{
  "nbformat": 4,
  "nbformat_minor": 0,
  "metadata": {
    "colab": {
      "name": ".ipynb",
      "provenance": [],
      "authorship_tag": "ABX9TyO5QtjLILBhlv0w7KZCSoEJ",
      "include_colab_link": true
    },
    "kernelspec": {
      "name": "python3",
      "display_name": "Python 3"
    },
    "language_info": {
      "name": "python"
    }
  },
  "cells": [
    {
      "cell_type": "markdown",
      "metadata": {
        "id": "view-in-github",
        "colab_type": "text"
      },
      "source": [
        "<a href=\"https://colab.research.google.com/github/Tractor-kun/Jul-Vac-Python/blob/main/Assignment.ipynb\" target=\"_parent\"><img src=\"https://colab.research.google.com/assets/colab-badge.svg\" alt=\"Open In Colab\"/></a>"
      ]
    },
    {
      "cell_type": "code",
      "execution_count": 3,
      "metadata": {
        "id": "Oe--J9wkCdXS"
      },
      "outputs": [],
      "source": [
        "#MINI CHALLENGE #1:\n",
        "student_id = 3324"
      ]
    },
    {
      "cell_type": "code",
      "source": [
        "student_id = 3400"
      ],
      "metadata": {
        "id": "d1iv71UbFwDl"
      },
      "execution_count": 4,
      "outputs": []
    },
    {
      "cell_type": "code",
      "source": [
        "student_id = 3530"
      ],
      "metadata": {
        "id": "BYwHg1XKFwQ9"
      },
      "execution_count": 5,
      "outputs": []
    },
    {
      "cell_type": "code",
      "source": [
        "student_id"
      ],
      "metadata": {
        "colab": {
          "base_uri": "https://localhost:8080/"
        },
        "id": "XMrVG8aeFx3c",
        "outputId": "1d4e9076-62d1-4c38-b1b0-57d9aea6360f"
      },
      "execution_count": 7,
      "outputs": [
        {
          "output_type": "execute_result",
          "data": {
            "text/plain": [
              "3530"
            ]
          },
          "metadata": {},
          "execution_count": 7
        }
      ]
    },
    {
      "cell_type": "code",
      "source": [
        "#MINI CHALLENGE #2:\n",
        "unicorn_id = 112"
      ],
      "metadata": {
        "id": "VvvpULktGodT"
      },
      "execution_count": 8,
      "outputs": []
    },
    {
      "cell_type": "code",
      "source": [
        "unicorn_id = 115.3"
      ],
      "metadata": {
        "id": "D87dWRljGomF"
      },
      "execution_count": 9,
      "outputs": []
    },
    {
      "cell_type": "code",
      "source": [
        "unicorn_id"
      ],
      "metadata": {
        "colab": {
          "base_uri": "https://localhost:8080/"
        },
        "id": "4_iID64eGpKl",
        "outputId": "432012e3-6794-41e6-f4af-fadd42355406"
      },
      "execution_count": 10,
      "outputs": [
        {
          "output_type": "execute_result",
          "data": {
            "text/plain": [
              "115.3"
            ]
          },
          "metadata": {},
          "execution_count": 10
        }
      ]
    },
    {
      "cell_type": "code",
      "source": [
        "#MINI CHALLENGE #3:\n",
        "number_tutors = 23"
      ],
      "metadata": {
        "id": "Td1XjNlmG__v"
      },
      "execution_count": 13,
      "outputs": []
    },
    {
      "cell_type": "code",
      "source": [
        "tutor_fee = 2500"
      ],
      "metadata": {
        "id": "4qnqfPLpHb8l"
      },
      "execution_count": 14,
      "outputs": []
    },
    {
      "cell_type": "code",
      "source": [
        "total = number_tutors * tutor_fee\n",
        "total"
      ],
      "metadata": {
        "colab": {
          "base_uri": "https://localhost:8080/"
        },
        "id": "1Ut1jZUJHm71",
        "outputId": "314b2701-eae0-444d-eea4-967bf8f4146f"
      },
      "execution_count": 16,
      "outputs": [
        {
          "output_type": "execute_result",
          "data": {
            "text/plain": [
              "57500"
            ]
          },
          "metadata": {},
          "execution_count": 16
        }
      ]
    },
    {
      "cell_type": "code",
      "source": [
        "#MINI CHALLENGE #4:\n",
        "fees_on_day1 = 260 \n",
        "fees_on_day2 = 280\n",
        "total = fees_on_day1 + fees_on_day2\n",
        "total"
      ],
      "metadata": {
        "colab": {
          "base_uri": "https://localhost:8080/"
        },
        "id": "7kZtWkxyIS_o",
        "outputId": "60b58419-586c-4ca9-a4a4-3fad0fe6a19b"
      },
      "execution_count": 17,
      "outputs": [
        {
          "output_type": "execute_result",
          "data": {
            "text/plain": [
              "540"
            ]
          },
          "metadata": {},
          "execution_count": 17
        }
      ]
    },
    {
      "cell_type": "code",
      "source": [
        "#MINI CHALLENGE #5:\n",
        "number_students = 15\n",
        "initial_price = 300\n",
        "final_price = 500"
      ],
      "metadata": {
        "id": "v0Kw7zV_JzaG"
      },
      "execution_count": 32,
      "outputs": []
    },
    {
      "cell_type": "code",
      "source": [
        "initial_total = number_students * initial_price\n",
        "initial_total "
      ],
      "metadata": {
        "colab": {
          "base_uri": "https://localhost:8080/"
        },
        "id": "LsirVddiLGvd",
        "outputId": "573fe43e-91a1-4cfd-b79d-ca28a0c75924"
      },
      "execution_count": 33,
      "outputs": [
        {
          "output_type": "execute_result",
          "data": {
            "text/plain": [
              "4500"
            ]
          },
          "metadata": {},
          "execution_count": 33
        }
      ]
    },
    {
      "cell_type": "code",
      "source": [
        "final_total = number_students * final_price\n",
        "final_total "
      ],
      "metadata": {
        "colab": {
          "base_uri": "https://localhost:8080/"
        },
        "id": "JjdRhrvzMjIR",
        "outputId": "fdcad8ed-112e-4358-bad2-de7271b53485"
      },
      "execution_count": 34,
      "outputs": [
        {
          "output_type": "execute_result",
          "data": {
            "text/plain": [
              "7500"
            ]
          },
          "metadata": {},
          "execution_count": 34
        }
      ]
    },
    {
      "cell_type": "code",
      "source": [
        "profit = final_total - initial_total\n",
        "profit"
      ],
      "metadata": {
        "colab": {
          "base_uri": "https://localhost:8080/"
        },
        "id": "b5vUB4P3MvMd",
        "outputId": "b8c6a78b-441c-49a3-ef0c-f593c0efa04a"
      },
      "execution_count": 36,
      "outputs": [
        {
          "output_type": "execute_result",
          "data": {
            "text/plain": [
              "3000"
            ]
          },
          "metadata": {},
          "execution_count": 36
        }
      ]
    },
    {
      "cell_type": "code",
      "source": [
        "#MINI CHALLENGE #6:\n",
        "x = 6\n",
        "y = 10\n",
        "z = (x - y) * (x + y)\n",
        "z"
      ],
      "metadata": {
        "colab": {
          "base_uri": "https://localhost:8080/"
        },
        "id": "4XWUoHu7NWxi",
        "outputId": "729963bc-3e42-4a59-b7d3-1ad9a1e33037"
      },
      "execution_count": 39,
      "outputs": [
        {
          "output_type": "execute_result",
          "data": {
            "text/plain": [
              "-64"
            ]
          },
          "metadata": {},
          "execution_count": 39
        }
      ]
    },
    {
      "cell_type": "code",
      "source": [
        "#MINI CHALLENGE #7:\n",
        "company_name = \"Unicorn Developers\"\n",
        "total_students = '30'\n",
        "myname = '(Joel)'\n",
        "\n",
        "print(\"The total number of students at {} are {}.{}\".format(company_name, total_students,myname))"
      ],
      "metadata": {
        "colab": {
          "base_uri": "https://localhost:8080/"
        },
        "id": "wzfDqZNyO0WF",
        "outputId": "f53fa254-846c-4cac-e303-caf587119449"
      },
      "execution_count": 45,
      "outputs": [
        {
          "output_type": "stream",
          "name": "stdout",
          "text": [
            "The total number of students at Unicorn Developers are 30.(Joel)\n"
          ]
        }
      ]
    },
    {
      "cell_type": "code",
      "source": [
        "#MINI CHALLENGE #8:\n",
        "x = input(\"Enter the fee for a course you want to study: \")\n",
        "x = int(x)\n",
        "y = input(\"Enter the number of courses that you want to pay for: \")\n",
        "y = int(y)\n",
        "z = input(\"Enter the name of the company that you want to study at \")\n",
        "print(\"The total funds required to pay for {} number of UniDev courses at {} is {}\".format(y,x,x * y))"
      ],
      "metadata": {
        "colab": {
          "base_uri": "https://localhost:8080/"
        },
        "id": "wRZMrRvCS4d6",
        "outputId": "24b2cf1b-cfff-48f5-b9e2-a21e26a0701c"
      },
      "execution_count": 48,
      "outputs": [
        {
          "output_type": "stream",
          "name": "stdout",
          "text": [
            "Enter the fee for a course you want to study: 3000\n",
            "Enter the number of courses that you want to pay for: 5\n",
            "Enter the name of the company that you want to study at UniDev\n",
            "The total funds required to pay for 5 number of UniDev courses at 3000 is 15000\n"
          ]
        }
      ]
    }
  ]
}